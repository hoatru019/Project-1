{
  "nbformat": 4,
  "nbformat_minor": 0,
  "metadata": {
    "colab": {
      "provenance": []
    },
    "kernelspec": {
      "name": "python3",
      "display_name": "Python 3"
    },
    "language_info": {
      "name": "python"
    }
  },
  "cells": [
    {
      "cell_type": "code",
      "execution_count": null,
      "metadata": {
        "id": "hcpdtUooqEX_"
      },
      "outputs": [],
      "source": [
        "# 1) a) Function for computing true error and relative error\n",
        "# For that we need actual and predicted value. We create a function that takes actual and predicted value as arguments\n",
        "def compute_error(actual_value, predicted_value):\n",
        "  true_error = abs(actual_value - predicted_value)\n",
        "  relative_error = true_error/abs(actual_value)\n",
        "  print(true_error, relative_error)\n",
        "\n",
        "#1) b) Function for computing approximate error and approximate relative error\n",
        "# Also for this we need actual and predicted value. So we create a function that takes actual and predicted value as arguments\n",
        "def compute_approx_error(actual_value, predicted_value):\n",
        "  approximate_error = abs(actual_value - predicted_value)\n",
        "  approximate_relative_error = approximate_error / abs(actual_value + predicted_value)\n",
        "  print(approximate_error, approximate_relative_error)"
      ]
    },
    {
      "cell_type": "code",
      "source": [
        "# 2) Use Taylor Series to compute an estimate of a non-polynomial function. You may select your own\n",
        "# function f but center it at center != 0.\n",
        "# The function I choosed to compute an estimate using taylor series is: f(x) = ln(x+1). We then used the Taylor series expansion of the function ln(x+1) which we centered at x=2\n",
        "#  to compute an estimate of the function. \n",
        "# To create the expansion we need to derrivate the function consecutively. Below are the expansions to at least the 20th degree.\n",
        "# f(x) = ln(x+1), f'(x) = 1/(x+1), f''(x) = -1/(x+1)^2, f'''(x) = 2/(x+1)^3, f''''(x) = -6/(x+1)^4, f'''''(x) = 24/(x+1)^5, f''''''(x) = -120/(x+1)^6, f'''''''(x) = 720/(x+1)^7\n",
        "# , f''''''''(x) = -5040/(x+1)^8, f'''''''''(x) = 40320/(x+1)^9, f''''''''''(x) = -362880/(x+1)^10, f'''''''''''(x) = 3628800/(x+1)^11, f''''''''''''(x) = -39916800/(x+1)^12\n",
        "# , f'''''''''''''(x) = 479001600/(x+1)^13, f''''''''''''''(x) = -1932053504/(x+1)^14, f'''''''''''''''(x) = 20761804800/(x+1)^15, f''''''''''''''''(x) = -83279157376/(x+1)^16\n",
        "# , f'''''''''''''''''(x) = 1307674368000/(x+1)^17, f''''''''''''''''''(x) = -6451204519360/(x+1)^18, f'''''''''''''''''''(x) = 108888694504000/(x+1)^19\n",
        "# , f''''''''''''''''''''(x) = -556114591315200/(x+1)^20\n",
        "# Then we computed the 20th derivatives of f(x) at x = 2, which are: f(2) = ln(3) = 1.09861228867, f'(2) = 1/3, f''(2) = -1/9, f'''(2) = 2/27, f''''(2) = -6/81\n",
        "# f'''''(2) = 24/243, f''''''(2) = -120/729, f'''''''(2) = 720/2187, f''''''''(2) = -5040/6561, f'''''''''(2) = 40320/19683, f''''''''''(2) = -362880/59049, f'''''''''''(2) = 3628800/177147\n",
        "# , f''''''''''''(2) = -39916800/531441, f'''''''''''''(2) = 479001600/1594323, f''''''''''''''(2) = -1932053504/4782969, f'''''''''''''''(2) = 20761804800/14348907\n",
        "# , f''''''''''''''''(2) = -83279157376/43046721, f'''''''''''''''''(2) = 1307674368000/129140163, f''''''''''''''''''(2) = -6451204519360/387420489, f'''''''''''''''''''(2) = 108888694504000/1162261467\n",
        "\n",
        "# 2) b) When we conside our function to be f(center+0.1) which is equivalent to f(2.1) as per our choosen center value above. Below is the table with the vertical being the degree of the\n",
        "# expansion and the horizontal containing the actual value, your approximation, and all errors:\n",
        "\n",
        "# Degree ActualValue\tApproximation\t Error\n",
        "# 0\t  1.131402111\t1.09861228867\t-0.032789\n",
        "# 1\t  1.131402111\t1.10000000000\t-0.031402\n",
        "# 2\t  1.131402111\t1.09925925926\t-0.032143\n",
        "# 3\t  1.131402111\t1.09972994792\t-0.031672\n",
        "# 4\t  1.131402111\t1.09949867725\t-0.031903\n",
        "# 5\t  1.131402111\t1.09959308229\t-0.031809\n",
        "# 6\t  1.131402111\t1.09955787818\t-0.031844\n",
        "# 7\t  1.131402111\t1.09956955961\t-0.031832\n",
        "# 8\t  1.131402111\t1.09956512615\t-0.031836\n",
        "# 9\t  1.131402111\t1.09956669871\t-0.031834\n",
        "# 10\t1.131402111\t1.09956609787\t-0.031835\n",
        "# 11\t1.131402111\t1.09956629608\t-0.031835\n",
        "# 12\t1.131402111\t1.09956622250\t-0.031835\n",
        "# 13\t1.131402111\t1.09956625263\t-0.031835\n",
        "# 14\t1.131402111\t1.09956624227\t-0.031835\n",
        "# 15\t1.131402111\t1.09956624689\t-0.031835\n",
        "# 16\t1.131402111\t1.09956624506\t-0.031835\n",
        "# 17\t1.131402111\t1.09956624584\t-0.031835\n",
        "# 18\t1.131402111\t1.09956624554\t-0.031835\n",
        "# 19\t1.131402111\t1.09956624563\t-0.031835\n",
        "# 20\t1.131402111\t1.09956624560\t-0.031835\n",
        "\n",
        "# 2) c) Below is the graph of the function and our 5th order Taylor series.\n"
      ],
      "metadata": {
        "id": "1euq-pmQ9ZiN"
      },
      "execution_count": null,
      "outputs": []
    },
    {
      "cell_type": "markdown",
      "source": [
        "![download.png](data:image/png;base64,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)"
      ],
      "metadata": {
        "id": "aaT7G5AEph9q"
      }
    },
    {
      "cell_type": "code",
      "source": [
        "# 3) a) A function to compute the original and one of the approximations of the given meme can be as follows:\n",
        "# First lets define the function for the original mathematics given in the meme.\n",
        "def f(x,y):\n",
        "  return np.sqrt(x**2 + y**2)\n",
        "# Then I choosed the second photo in the meme to be my approximation. Below is the definition of the function of the approximation.\n",
        "def g(x, y):\n",
        "    return 0.96*x + 0.4*y\n",
        "\n",
        "# b) Now lets write another function that gives the values from the original and approximation mathematics\n",
        "def compute(x,y):\n",
        "  original = f(x, y)\n",
        "  approximation = g(x, y)\n",
        "\n",
        "  return (original, approximation)\n",
        "\n",
        "# We then passed the 10 different values to the compute function\n",
        "test_values = [(1, 2), (2, 3), (3, 4), (4, 5), (5, 6), (6, 7), (7, 8), (8, 9), (9, 10), (10, 11)]\n",
        "for x,y in test_values:\n",
        "  original_val, approximation_val = compute(x,y)\n",
        "  print(original_val, approximation_val)\n",
        "  print(f\"Absolute error: {abs(original_val - approximation_val)}\")\n",
        "\n",
        "# c) No the approximation was not good as the absolute error is typically large compared to the original values which is ranging from ~0.47607 to ~ 0.866.\n",
        "# This type of approximation can be used when we need a starting point and overtime we move to more precise approximation. In other words, this type of approximation\n",
        "# can be used for rough estimation. I believe with the level of brainess of the meme as I believe the approximation is leading to more precise approximation which \n",
        "# may make the brain confusing."
      ],
      "metadata": {
        "colab": {
          "base_uri": "https://localhost:8080/"
        },
        "id": "fpoKri_X7phh",
        "outputId": "e18aad9d-34c3-4a00-ad6e-b718677e75f2"
      },
      "execution_count": 4,
      "outputs": [
        {
          "output_type": "stream",
          "name": "stdout",
          "text": [
            "2.23606797749979 1.76\n",
            "Absolute error: 0.4760679774997898\n",
            "3.605551275463989 3.12\n",
            "Absolute error: 0.485551275463989\n",
            "5.0 4.48\n",
            "Absolute error: 0.5199999999999996\n",
            "6.4031242374328485 5.84\n",
            "Absolute error: 0.5631242374328487\n",
            "7.810249675906654 7.2\n",
            "Absolute error: 0.6102496759066538\n",
            "9.219544457292887 8.56\n",
            "Absolute error: 0.6595444572928866\n",
            "10.63014581273465 9.92\n",
            "Absolute error: 0.71014581273465\n",
            "12.041594578792296 11.28\n",
            "Absolute error: 0.7615945787922964\n",
            "13.45362404707371 12.64\n",
            "Absolute error: 0.8136240470737093\n",
            "14.866068747318506 14.0\n",
            "Absolute error: 0.866068747318506\n"
          ]
        }
      ]
    },
    {
      "cell_type": "code",
      "source": [
        "# 4) a) In this module we started by computing the true error, approximation error along with computing approximate error and approximate relative error. We also\n",
        "# explored the concept of Taylor series and how it could be used to approximate functions around a certain point. We choosed a function f(x)= ln(x+1) and found up\n",
        "# to 20th degree Taylor expansion which was centered at x=2. We then looked into the meme where we played with the given original expression with one of thr provided\n",
        "# approximation expression.\n",
        "\n",
        "# 4) b) The neccessity to go to the 20th degree is as we go higher in the degree the more precise the approximation will be. It also depends on the level of \n",
        "# accuracy needed in the computational. There could have been a more appropriate place to cut off the computation but it depends on the purpose of finding the\n",
        "# approximation. We could have figure out if there is a appropriate place to cut off the computational if we there we have known the level of the tolerance of error.\n",
        "\n",
        "# 4) c) As we can see when we move farther away from the center, the actual function curve becomes more curved, while the Taylor series approximation remains more kind\n",
        "#  of linear and does not curve the way of the actual function. To start to dismiss the approximation graphed we could have evaluated the accuracy of the approximation\n",
        "# for a wider range of actual values."
      ],
      "metadata": {
        "id": "KYFQEVlbBym7"
      },
      "execution_count": null,
      "outputs": []
    }
  ]
}